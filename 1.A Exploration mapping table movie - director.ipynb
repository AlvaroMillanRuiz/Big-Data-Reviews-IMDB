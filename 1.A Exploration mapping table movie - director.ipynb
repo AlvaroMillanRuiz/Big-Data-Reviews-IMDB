{
 "cells": [
  {
   "cell_type": "markdown",
   "id": "33cb6abe",
   "metadata": {
    "pycharm": {
     "name": "#%% md\n"
    }
   },
   "source": [
    "# Exporation mapping table movie - director"
   ]
  },
  {
   "cell_type": "code",
   "execution_count": 1,
   "id": "e43f7b26",
   "metadata": {
    "pycharm": {
     "name": "#%%\n"
    }
   },
   "outputs": [],
   "source": [
    "import pandas as pd\n",
    "import duckdb\n",
    "from collections import Counter\n",
    "import numpy as np"
   ]
  },
  {
   "cell_type": "code",
   "execution_count": 2,
   "id": "7c4549f2",
   "metadata": {
    "pycharm": {
     "name": "#%%\n"
    }
   },
   "outputs": [],
   "source": [
    "# Load mapping table movie to director\n",
    "directing = pd.read_json('data/directing.json')\n",
    "\n",
    "# Replace missing values by legit missing values\n",
    "mapping_movie_director = directing.replace('\\\\N', np.nan)\n",
    "mapping_movie_director = mapping_movie_director.dropna()"
   ]
  },
  {
   "cell_type": "code",
   "execution_count": 3,
   "id": "5a1a2397",
   "metadata": {
    "pycharm": {
     "name": "#%%\n"
    }
   },
   "outputs": [
    {
     "data": {
      "text/html": [
       "<div>\n",
       "<style scoped>\n",
       "    .dataframe tbody tr th:only-of-type {\n",
       "        vertical-align: middle;\n",
       "    }\n",
       "\n",
       "    .dataframe tbody tr th {\n",
       "        vertical-align: top;\n",
       "    }\n",
       "\n",
       "    .dataframe thead th {\n",
       "        text-align: right;\n",
       "    }\n",
       "</style>\n",
       "<table border=\"1\" class=\"dataframe\">\n",
       "  <thead>\n",
       "    <tr style=\"text-align: right;\">\n",
       "      <th></th>\n",
       "      <th>director</th>\n",
       "    </tr>\n",
       "    <tr>\n",
       "      <th>movie</th>\n",
       "      <th></th>\n",
       "    </tr>\n",
       "  </thead>\n",
       "  <tbody>\n",
       "    <tr>\n",
       "      <th>tt1687247</th>\n",
       "      <td>35</td>\n",
       "    </tr>\n",
       "    <tr>\n",
       "      <th>tt1935896</th>\n",
       "      <td>27</td>\n",
       "    </tr>\n",
       "    <tr>\n",
       "      <th>tt0401711</th>\n",
       "      <td>21</td>\n",
       "    </tr>\n",
       "    <tr>\n",
       "      <th>tt0099273</th>\n",
       "      <td>13</td>\n",
       "    </tr>\n",
       "    <tr>\n",
       "      <th>tt2275743</th>\n",
       "      <td>13</td>\n",
       "    </tr>\n",
       "    <tr>\n",
       "      <th>...</th>\n",
       "      <td>...</td>\n",
       "    </tr>\n",
       "    <tr>\n",
       "      <th>tt0137439</th>\n",
       "      <td>1</td>\n",
       "    </tr>\n",
       "    <tr>\n",
       "      <th>tt0137523</th>\n",
       "      <td>1</td>\n",
       "    </tr>\n",
       "    <tr>\n",
       "      <th>tt0137799</th>\n",
       "      <td>1</td>\n",
       "    </tr>\n",
       "    <tr>\n",
       "      <th>tt0138074</th>\n",
       "      <td>1</td>\n",
       "    </tr>\n",
       "    <tr>\n",
       "      <th>tt9911196</th>\n",
       "      <td>1</td>\n",
       "    </tr>\n",
       "  </tbody>\n",
       "</table>\n",
       "<p>9998 rows × 1 columns</p>\n",
       "</div>"
      ],
      "text/plain": [
       "           director\n",
       "movie              \n",
       "tt1687247        35\n",
       "tt1935896        27\n",
       "tt0401711        21\n",
       "tt0099273        13\n",
       "tt2275743        13\n",
       "...             ...\n",
       "tt0137439         1\n",
       "tt0137523         1\n",
       "tt0137799         1\n",
       "tt0138074         1\n",
       "tt9911196         1\n",
       "\n",
       "[9998 rows x 1 columns]"
      ]
     },
     "execution_count": 3,
     "metadata": {},
     "output_type": "execute_result"
    }
   ],
   "source": [
    "# Count the directors per movie, in descending order\n",
    "mapping_movie_director.groupby('movie').count().sort_values('director', ascending=False)"
   ]
  },
  {
   "cell_type": "code",
   "execution_count": 4,
   "id": "e32d5917",
   "metadata": {
    "pycharm": {
     "name": "#%%\n"
    }
   },
   "outputs": [
    {
     "data": {
      "text/plain": [
       "Counter({35: 1,\n",
       "         27: 1,\n",
       "         21: 1,\n",
       "         13: 3,\n",
       "         12: 2,\n",
       "         11: 1,\n",
       "         10: 2,\n",
       "         8: 3,\n",
       "         7: 5,\n",
       "         6: 8,\n",
       "         5: 11,\n",
       "         4: 16,\n",
       "         3: 75,\n",
       "         2: 663,\n",
       "         1: 9206})"
      ]
     },
     "execution_count": 4,
     "metadata": {},
     "output_type": "execute_result"
    }
   ],
   "source": [
    "# My suggestion is to only select first select top 5 directors\n",
    "grouped_mapping_movie_director = mapping_movie_director.groupby(by='movie').count().sort_values(by='director', ascending=False)\n",
    "Counter(grouped_mapping_movie_director['director'])"
   ]
  },
  {
   "cell_type": "code",
   "execution_count": 5,
   "id": "c460204a",
   "metadata": {
    "pycharm": {
     "name": "#%%\n"
    }
   },
   "outputs": [
    {
     "data": {
      "text/html": [
       "<div>\n",
       "<style scoped>\n",
       "    .dataframe tbody tr th:only-of-type {\n",
       "        vertical-align: middle;\n",
       "    }\n",
       "\n",
       "    .dataframe tbody tr th {\n",
       "        vertical-align: top;\n",
       "    }\n",
       "\n",
       "    .dataframe thead th {\n",
       "        text-align: right;\n",
       "    }\n",
       "</style>\n",
       "<table border=\"1\" class=\"dataframe\">\n",
       "  <thead>\n",
       "    <tr style=\"text-align: right;\">\n",
       "      <th></th>\n",
       "      <th>movie</th>\n",
       "      <th>director 1</th>\n",
       "      <th>director 2</th>\n",
       "      <th>director 3</th>\n",
       "      <th>director 4</th>\n",
       "      <th>director 5</th>\n",
       "    </tr>\n",
       "  </thead>\n",
       "  <tbody>\n",
       "    <tr>\n",
       "      <th>0</th>\n",
       "      <td>tt0003740</td>\n",
       "      <td>nm0665163</td>\n",
       "      <td>None</td>\n",
       "      <td>None</td>\n",
       "      <td>None</td>\n",
       "      <td>None</td>\n",
       "    </tr>\n",
       "    <tr>\n",
       "      <th>1</th>\n",
       "      <td>tt0008663</td>\n",
       "      <td>nm0803705</td>\n",
       "      <td>None</td>\n",
       "      <td>None</td>\n",
       "      <td>None</td>\n",
       "      <td>None</td>\n",
       "    </tr>\n",
       "    <tr>\n",
       "      <th>2</th>\n",
       "      <td>tt0009369</td>\n",
       "      <td>nm0428059</td>\n",
       "      <td>nm0949648</td>\n",
       "      <td>None</td>\n",
       "      <td>None</td>\n",
       "      <td>None</td>\n",
       "    </tr>\n",
       "    <tr>\n",
       "      <th>3</th>\n",
       "      <td>tt0010307</td>\n",
       "      <td>nm0304098</td>\n",
       "      <td>None</td>\n",
       "      <td>None</td>\n",
       "      <td>None</td>\n",
       "      <td>None</td>\n",
       "    </tr>\n",
       "    <tr>\n",
       "      <th>4</th>\n",
       "      <td>tt0010600</td>\n",
       "      <td>nm0523932</td>\n",
       "      <td>None</td>\n",
       "      <td>None</td>\n",
       "      <td>None</td>\n",
       "      <td>None</td>\n",
       "    </tr>\n",
       "    <tr>\n",
       "      <th>...</th>\n",
       "      <td>...</td>\n",
       "      <td>...</td>\n",
       "      <td>...</td>\n",
       "      <td>...</td>\n",
       "      <td>...</td>\n",
       "      <td>...</td>\n",
       "    </tr>\n",
       "    <tr>\n",
       "      <th>9993</th>\n",
       "      <td>tt9850344</td>\n",
       "      <td>nm0284774</td>\n",
       "      <td>None</td>\n",
       "      <td>None</td>\n",
       "      <td>None</td>\n",
       "      <td>None</td>\n",
       "    </tr>\n",
       "    <tr>\n",
       "      <th>9994</th>\n",
       "      <td>tt9850386</td>\n",
       "      <td>nm0550881</td>\n",
       "      <td>None</td>\n",
       "      <td>None</td>\n",
       "      <td>None</td>\n",
       "      <td>None</td>\n",
       "    </tr>\n",
       "    <tr>\n",
       "      <th>9995</th>\n",
       "      <td>tt9900782</td>\n",
       "      <td>nm7992231</td>\n",
       "      <td>None</td>\n",
       "      <td>None</td>\n",
       "      <td>None</td>\n",
       "      <td>None</td>\n",
       "    </tr>\n",
       "    <tr>\n",
       "      <th>9996</th>\n",
       "      <td>tt9904802</td>\n",
       "      <td>nm0052054</td>\n",
       "      <td>None</td>\n",
       "      <td>None</td>\n",
       "      <td>None</td>\n",
       "      <td>None</td>\n",
       "    </tr>\n",
       "    <tr>\n",
       "      <th>9997</th>\n",
       "      <td>tt9911196</td>\n",
       "      <td>nm0631590</td>\n",
       "      <td>None</td>\n",
       "      <td>None</td>\n",
       "      <td>None</td>\n",
       "      <td>None</td>\n",
       "    </tr>\n",
       "  </tbody>\n",
       "</table>\n",
       "<p>9998 rows × 6 columns</p>\n",
       "</div>"
      ],
      "text/plain": [
       "          movie director 1 director 2 director 3 director 4 director 5\n",
       "0     tt0003740  nm0665163       None       None       None       None\n",
       "1     tt0008663  nm0803705       None       None       None       None\n",
       "2     tt0009369  nm0428059  nm0949648       None       None       None\n",
       "3     tt0010307  nm0304098       None       None       None       None\n",
       "4     tt0010600  nm0523932       None       None       None       None\n",
       "...         ...        ...        ...        ...        ...        ...\n",
       "9993  tt9850344  nm0284774       None       None       None       None\n",
       "9994  tt9850386  nm0550881       None       None       None       None\n",
       "9995  tt9900782  nm7992231       None       None       None       None\n",
       "9996  tt9904802  nm0052054       None       None       None       None\n",
       "9997  tt9911196  nm0631590       None       None       None       None\n",
       "\n",
       "[9998 rows x 6 columns]"
      ]
     },
     "execution_count": 5,
     "metadata": {},
     "output_type": "execute_result"
    }
   ],
   "source": [
    "# Select first 5 Concat directors per movie\n",
    "top_5_directors_per_movie = mapping_movie_director.groupby('movie').head(5).groupby(['movie'], as_index=False).agg({'director': ', '.join})\n",
    "movie_and_directors = pd.concat([top_5_directors_per_movie['movie'], top_5_directors_per_movie['director'].str.split(', ', expand=True)], axis=1)\n",
    "movie_and_directors.rename(columns={0: \"director 1\", 1: \"director 2\", 2: \"director 3\", 3: \"director 4\", 4: \"director 5\"})"
   ]
  },
  {
   "cell_type": "code",
   "execution_count": null,
   "id": "9b70f044",
   "metadata": {
    "pycharm": {
     "name": "#%%\n"
    }
   },
   "outputs": [],
   "source": []
  },
  {
   "cell_type": "code",
   "execution_count": null,
   "id": "5f1a1304",
   "metadata": {
    "pycharm": {
     "name": "#%%\n"
    }
   },
   "outputs": [],
   "source": []
  }
 ],
 "metadata": {
  "kernelspec": {
   "display_name": "Python 3 (ipykernel)",
   "language": "python",
   "name": "python3"
  },
  "language_info": {
   "codemirror_mode": {
    "name": "ipython",
    "version": 3
   },
   "file_extension": ".py",
   "mimetype": "text/x-python",
   "name": "python",
   "nbconvert_exporter": "python",
   "pygments_lexer": "ipython3",
   "version": "3.9.6"
  }
 },
 "nbformat": 4,
 "nbformat_minor": 5
}
