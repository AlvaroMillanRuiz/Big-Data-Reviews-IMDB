{
 "cells": [
  {
   "cell_type": "code",
   "execution_count": 1,
   "id": "08e8780a",
   "metadata": {
    "scrolled": true
   },
   "outputs": [
    {
     "name": "stderr",
     "output_type": "stream",
     "text": [
      "/var/folders/p3/prw8fq7d4t350r6vj8kcn_rh0000gn/T/ipykernel_12367/3993058375.py:4: DeprecationWarning: `import pandas_profiling` is going to be deprecated by April 1st. Please use `import ydata_profiling` instead.\n",
      "  from pandas_profiling import ProfileReport\n"
     ]
    }
   ],
   "source": [
    "# Import necessary libraries\n",
    "import pandas as pd\n",
    "import glob\n",
    "from pandas_profiling import ProfileReport\n",
    "import numpy as np\n",
    "import json\n",
    "import duckdb"
   ]
  },
  {
   "cell_type": "code",
   "execution_count": 2,
   "id": "68468623",
   "metadata": {},
   "outputs": [],
   "source": [
    "# create a connection to a file called 'imdb_reviews.db'\n",
    "con = duckdb.connect('imdb_reviews.db')"
   ]
  },
  {
   "cell_type": "code",
   "execution_count": 3,
   "id": "1ecd6e43",
   "metadata": {},
   "outputs": [
    {
     "data": {
      "text/html": [
       "<div>\n",
       "<style scoped>\n",
       "    .dataframe tbody tr th:only-of-type {\n",
       "        vertical-align: middle;\n",
       "    }\n",
       "\n",
       "    .dataframe tbody tr th {\n",
       "        vertical-align: top;\n",
       "    }\n",
       "\n",
       "    .dataframe thead th {\n",
       "        text-align: right;\n",
       "    }\n",
       "</style>\n",
       "<table border=\"1\" class=\"dataframe\">\n",
       "  <thead>\n",
       "    <tr style=\"text-align: right;\">\n",
       "      <th></th>\n",
       "      <th>table_name</th>\n",
       "      <th>column_names</th>\n",
       "      <th>column_types</th>\n",
       "      <th>temporary</th>\n",
       "    </tr>\n",
       "  </thead>\n",
       "  <tbody>\n",
       "    <tr>\n",
       "      <th>0</th>\n",
       "      <td>dummie_director</td>\n",
       "      <td>[movie, director_1_dum, director_2_dum, direct...</td>\n",
       "      <td>[VARCHAR, UTINYINT, UTINYINT, UTINYINT, UTINYI...</td>\n",
       "      <td>False</td>\n",
       "    </tr>\n",
       "    <tr>\n",
       "      <th>1</th>\n",
       "      <td>dummie_writer</td>\n",
       "      <td>[movie, writer_1_dum, writer_2_dum, writer_3_d...</td>\n",
       "      <td>[VARCHAR, UTINYINT, UTINYINT, UTINYINT, UTINYI...</td>\n",
       "      <td>False</td>\n",
       "    </tr>\n",
       "    <tr>\n",
       "      <th>2</th>\n",
       "      <td>imdb_review_test</td>\n",
       "      <td>[tconst, primaryTitle, originalTitle, startYea...</td>\n",
       "      <td>[VARCHAR, VARCHAR, VARCHAR, VARCHAR, VARCHAR, ...</td>\n",
       "      <td>False</td>\n",
       "    </tr>\n",
       "    <tr>\n",
       "      <th>3</th>\n",
       "      <td>imdb_review_train</td>\n",
       "      <td>[tconst, primaryTitle, originalTitle, startYea...</td>\n",
       "      <td>[VARCHAR, VARCHAR, VARCHAR, VARCHAR, VARCHAR, ...</td>\n",
       "      <td>False</td>\n",
       "    </tr>\n",
       "    <tr>\n",
       "      <th>4</th>\n",
       "      <td>imdb_review_validation</td>\n",
       "      <td>[tconst, primaryTitle, originalTitle, startYea...</td>\n",
       "      <td>[VARCHAR, VARCHAR, VARCHAR, VARCHAR, VARCHAR, ...</td>\n",
       "      <td>False</td>\n",
       "    </tr>\n",
       "    <tr>\n",
       "      <th>5</th>\n",
       "      <td>movie_directing</td>\n",
       "      <td>[movie, director_1, director_2, director_3, di...</td>\n",
       "      <td>[VARCHAR, VARCHAR, VARCHAR, VARCHAR, VARCHAR, ...</td>\n",
       "      <td>False</td>\n",
       "    </tr>\n",
       "    <tr>\n",
       "      <th>6</th>\n",
       "      <td>movie_writer</td>\n",
       "      <td>[movie, writer_1, writer_2, writer_3, writer_4...</td>\n",
       "      <td>[VARCHAR, VARCHAR, VARCHAR, VARCHAR, VARCHAR, ...</td>\n",
       "      <td>False</td>\n",
       "    </tr>\n",
       "    <tr>\n",
       "      <th>7</th>\n",
       "      <td>movielens_information</td>\n",
       "      <td>[movieId, imdbId, tmdbId, rating, year, title,...</td>\n",
       "      <td>[BIGINT, BIGINT, DOUBLE, DOUBLE, VARCHAR, VARC...</td>\n",
       "      <td>False</td>\n",
       "    </tr>\n",
       "  </tbody>\n",
       "</table>\n",
       "</div>"
      ],
      "text/plain": [
       "               table_name                                       column_names  \\\n",
       "0         dummie_director  [movie, director_1_dum, director_2_dum, direct...   \n",
       "1           dummie_writer  [movie, writer_1_dum, writer_2_dum, writer_3_d...   \n",
       "2        imdb_review_test  [tconst, primaryTitle, originalTitle, startYea...   \n",
       "3       imdb_review_train  [tconst, primaryTitle, originalTitle, startYea...   \n",
       "4  imdb_review_validation  [tconst, primaryTitle, originalTitle, startYea...   \n",
       "5         movie_directing  [movie, director_1, director_2, director_3, di...   \n",
       "6            movie_writer  [movie, writer_1, writer_2, writer_3, writer_4...   \n",
       "7   movielens_information  [movieId, imdbId, tmdbId, rating, year, title,...   \n",
       "\n",
       "                                        column_types  temporary  \n",
       "0  [VARCHAR, UTINYINT, UTINYINT, UTINYINT, UTINYI...      False  \n",
       "1  [VARCHAR, UTINYINT, UTINYINT, UTINYINT, UTINYI...      False  \n",
       "2  [VARCHAR, VARCHAR, VARCHAR, VARCHAR, VARCHAR, ...      False  \n",
       "3  [VARCHAR, VARCHAR, VARCHAR, VARCHAR, VARCHAR, ...      False  \n",
       "4  [VARCHAR, VARCHAR, VARCHAR, VARCHAR, VARCHAR, ...      False  \n",
       "5  [VARCHAR, VARCHAR, VARCHAR, VARCHAR, VARCHAR, ...      False  \n",
       "6  [VARCHAR, VARCHAR, VARCHAR, VARCHAR, VARCHAR, ...      False  \n",
       "7  [BIGINT, BIGINT, DOUBLE, DOUBLE, VARCHAR, VARC...      False  "
      ]
     },
     "execution_count": 3,
     "metadata": {},
     "output_type": "execute_result"
    }
   ],
   "source": [
    "con.execute(\"DESCRIBE\").fetchdf()"
   ]
  },
  {
   "cell_type": "code",
   "execution_count": 4,
   "id": "0f1fdde7",
   "metadata": {
    "scrolled": true
   },
   "outputs": [
    {
     "ename": "CatalogException",
     "evalue": "Catalog Error: Table with name netflix_data does not exist!\nDid you mean \"temp.information_schema.schemata\"?",
     "output_type": "error",
     "traceback": [
      "\u001b[0;31m---------------------------------------------------------------------------\u001b[0m",
      "\u001b[0;31mCatalogException\u001b[0m                          Traceback (most recent call last)",
      "Cell \u001b[0;32mIn [4], line 2\u001b[0m\n\u001b[1;32m      1\u001b[0m \u001b[38;5;66;03m# Load train data set\u001b[39;00m\n\u001b[0;32m----> 2\u001b[0m df_netflix_train \u001b[38;5;241m=\u001b[39m \u001b[43mcon\u001b[49m\u001b[38;5;241;43m.\u001b[39;49m\u001b[43mexecute\u001b[49m\u001b[43m(\u001b[49m\u001b[38;5;124;43m\"\"\"\u001b[39;49m\u001b[38;5;124;43mSELECT  imdb_review_train.tconst,\u001b[39;49m\n\u001b[1;32m      3\u001b[0m \u001b[38;5;124;43m                            imdb_review_train.startYear,\u001b[39;49m\n\u001b[1;32m      4\u001b[0m \u001b[38;5;124;43m                            imdb_review_train.primaryTitle,\u001b[39;49m\n\u001b[1;32m      5\u001b[0m \u001b[38;5;124;43m \u001b[39;49m\n\u001b[1;32m      6\u001b[0m \u001b[38;5;124;43m                           imdb_review_train.runtimeMinutes,\u001b[39;49m\n\u001b[1;32m      7\u001b[0m \u001b[38;5;124;43m                           imdb_review_train.numVotes,\u001b[39;49m\n\u001b[1;32m      8\u001b[0m \u001b[38;5;124;43m                           \u001b[39;49m\n\u001b[1;32m      9\u001b[0m \u001b[38;5;124;43m                           netflix_data.title,\u001b[39;49m\n\u001b[1;32m     10\u001b[0m \u001b[38;5;124;43m                           netflix_data.director,\u001b[39;49m\n\u001b[1;32m     11\u001b[0m \u001b[38;5;124;43m                           netflix_data.cast,\u001b[39;49m\n\u001b[1;32m     12\u001b[0m \u001b[38;5;124;43m                           netflix_data.country,\u001b[39;49m\n\u001b[1;32m     13\u001b[0m \u001b[38;5;124;43m                           netflix_data.release_year,\u001b[39;49m\n\u001b[1;32m     14\u001b[0m \u001b[38;5;124;43m                           netflix_data.rating,\u001b[39;49m\n\u001b[1;32m     15\u001b[0m \u001b[38;5;124;43m                           \u001b[39;49m\n\u001b[1;32m     16\u001b[0m \u001b[38;5;124;43m                           movie_writer.writer_1,\u001b[39;49m\n\u001b[1;32m     17\u001b[0m \u001b[38;5;124;43m                           movie_writer.writer_2,\u001b[39;49m\n\u001b[1;32m     18\u001b[0m \u001b[38;5;124;43m                           movie_writer.writer_3,\u001b[39;49m\n\u001b[1;32m     19\u001b[0m \u001b[38;5;124;43m                           movie_writer.writer_4,\u001b[39;49m\n\u001b[1;32m     20\u001b[0m \u001b[38;5;124;43m                           movie_writer.writer_5,\u001b[39;49m\n\u001b[1;32m     21\u001b[0m \u001b[38;5;124;43m                           movie_writer.writer_6,\u001b[39;49m\n\u001b[1;32m     22\u001b[0m \u001b[38;5;124;43m                           movie_writer.writer_7,\u001b[39;49m\n\u001b[1;32m     23\u001b[0m \u001b[38;5;124;43m                           movie_writer.writer_8,\u001b[39;49m\n\u001b[1;32m     24\u001b[0m \u001b[38;5;124;43m                           \u001b[39;49m\n\u001b[1;32m     25\u001b[0m \u001b[38;5;124;43m                           movie_directing.director_1,\u001b[39;49m\n\u001b[1;32m     26\u001b[0m \u001b[38;5;124;43m                           movie_directing.director_2,\u001b[39;49m\n\u001b[1;32m     27\u001b[0m \u001b[38;5;124;43m                           movie_directing.director_3,\u001b[39;49m\n\u001b[1;32m     28\u001b[0m \u001b[38;5;124;43m                           movie_directing.director_4,\u001b[39;49m\n\u001b[1;32m     29\u001b[0m \u001b[38;5;124;43m                           movie_directing.director_5,\u001b[39;49m\n\u001b[1;32m     30\u001b[0m \u001b[38;5;124;43m                           \u001b[39;49m\n\u001b[1;32m     31\u001b[0m \u001b[38;5;124;43m                           imdb_review_train.label\u001b[39;49m\n\u001b[1;32m     32\u001b[0m \u001b[38;5;124;43m                           \u001b[39;49m\n\u001b[1;32m     33\u001b[0m \u001b[38;5;124;43m                           \u001b[39;49m\n\u001b[1;32m     34\u001b[0m \u001b[38;5;124;43m                    FROM imdb_review_train\u001b[39;49m\n\u001b[1;32m     35\u001b[0m \u001b[38;5;124;43m                    \u001b[39;49m\n\u001b[1;32m     36\u001b[0m \u001b[38;5;124;43m                    -- Merge the netflix information\u001b[39;49m\n\u001b[1;32m     37\u001b[0m \u001b[38;5;124;43m                    LEFT JOIN netflix_data\u001b[39;49m\n\u001b[1;32m     38\u001b[0m \u001b[38;5;124;43m                    ON imdb_review_train.startYear = netflix_data.release_year \u001b[39;49m\n\u001b[1;32m     39\u001b[0m \u001b[38;5;124;43m                    AND imdb_review_train.primaryTitle = netflix_data.title\u001b[39;49m\n\u001b[1;32m     40\u001b[0m \u001b[38;5;124;43m   \u001b[39;49m\n\u001b[1;32m     41\u001b[0m \u001b[38;5;124;43m                    -- Merge the writer information\u001b[39;49m\n\u001b[1;32m     42\u001b[0m \u001b[38;5;124;43m                    LEFT JOIN movie_writer\u001b[39;49m\n\u001b[1;32m     43\u001b[0m \u001b[38;5;124;43m                    ON imdb_review_train.tconst = movie_writer.movie  \u001b[39;49m\n\u001b[1;32m     44\u001b[0m \u001b[38;5;124;43m                    \u001b[39;49m\n\u001b[1;32m     45\u001b[0m \u001b[38;5;124;43m                    -- Merge the director information\u001b[39;49m\n\u001b[1;32m     46\u001b[0m \u001b[38;5;124;43m                    LEFT JOIN movie_directing\u001b[39;49m\n\u001b[1;32m     47\u001b[0m \u001b[38;5;124;43m                    ON imdb_review_train.tconst = movie_directing.movie  \u001b[39;49m\n\u001b[1;32m     48\u001b[0m \u001b[38;5;124;43m                    \u001b[39;49m\n\u001b[1;32m     49\u001b[0m \u001b[38;5;124;43m                    \u001b[39;49m\n\u001b[1;32m     50\u001b[0m \u001b[38;5;124;43m                    \u001b[39;49m\u001b[38;5;124;43m\"\"\"\u001b[39;49m\u001b[43m)\u001b[49m\u001b[38;5;241m.\u001b[39mfetchdf()\n\u001b[1;32m     51\u001b[0m df_netflix_train\n",
      "\u001b[0;31mCatalogException\u001b[0m: Catalog Error: Table with name netflix_data does not exist!\nDid you mean \"temp.information_schema.schemata\"?"
     ]
    }
   ],
   "source": [
    "# Load train data set\n",
    "df_netflix_train = con.execute(\"\"\"SELECT  imdb_review_train.tconst,\n",
    "                            imdb_review_train.startYear,\n",
    "                            imdb_review_train.primaryTitle,\n",
    " \n",
    "                           imdb_review_train.runtimeMinutes,\n",
    "                           imdb_review_train.numVotes,\n",
    "                           \n",
    "                           netflix_data.title,\n",
    "                           netflix_data.director,\n",
    "                           netflix_data.cast,\n",
    "                           netflix_data.country,\n",
    "                           netflix_data.release_year,\n",
    "                           netflix_data.rating,\n",
    "                           \n",
    "                           movie_writer.writer_1,\n",
    "                           movie_writer.writer_2,\n",
    "                           movie_writer.writer_3,\n",
    "                           movie_writer.writer_4,\n",
    "                           movie_writer.writer_5,\n",
    "                           movie_writer.writer_6,\n",
    "                           movie_writer.writer_7,\n",
    "                           movie_writer.writer_8,\n",
    "                           \n",
    "                           movie_directing.director_1,\n",
    "                           movie_directing.director_2,\n",
    "                           movie_directing.director_3,\n",
    "                           movie_directing.director_4,\n",
    "                           movie_directing.director_5,\n",
    "                           \n",
    "                           imdb_review_train.label\n",
    "                           \n",
    "                           \n",
    "                    FROM imdb_review_train\n",
    "                    \n",
    "                    -- Merge the netflix information\n",
    "                    LEFT JOIN netflix_data\n",
    "                    ON imdb_review_train.startYear = netflix_data.release_year \n",
    "                    AND imdb_review_train.primaryTitle = netflix_data.title\n",
    "   \n",
    "                    -- Merge the writer information\n",
    "                    LEFT JOIN movie_writer\n",
    "                    ON imdb_review_train.tconst = movie_writer.movie  \n",
    "                    \n",
    "                    -- Merge the director information\n",
    "                    LEFT JOIN movie_directing\n",
    "                    ON imdb_review_train.tconst = movie_directing.movie  \n",
    "                    \n",
    "                    \n",
    "                    \"\"\").fetchdf()\n",
    "df_netflix_train\n"
   ]
  },
  {
   "cell_type": "code",
   "execution_count": 5,
   "id": "7d548aa3",
   "metadata": {},
   "outputs": [
    {
     "ename": "NameError",
     "evalue": "name 'df_netflix_train' is not defined",
     "output_type": "error",
     "traceback": [
      "\u001b[0;31m---------------------------------------------------------------------------\u001b[0m",
      "\u001b[0;31mNameError\u001b[0m                                 Traceback (most recent call last)",
      "Cell \u001b[0;32mIn [5], line 1\u001b[0m\n\u001b[0;32m----> 1\u001b[0m \u001b[43mdf_netflix_train\u001b[49m[\u001b[38;5;124m'\u001b[39m\u001b[38;5;124mtitle\u001b[39m\u001b[38;5;124m'\u001b[39m]\u001b[38;5;241m.\u001b[39misna()\u001b[38;5;241m.\u001b[39msum()\n",
      "\u001b[0;31mNameError\u001b[0m: name 'df_netflix_train' is not defined"
     ]
    }
   ],
   "source": [
    "df_netflix_train['title'].isna().sum()"
   ]
  },
  {
   "cell_type": "code",
   "execution_count": 6,
   "id": "fd03cd44",
   "metadata": {
    "scrolled": true
   },
   "outputs": [
    {
     "ename": "CatalogException",
     "evalue": "Catalog Error: Table with name df_netflix_train does not exist!\nDid you mean \"imdb_review_train\"?\nLINE 1: ...ISTS netflix_training AS SELECT * FROM df_netflix_train\n                                                  ^",
     "output_type": "error",
     "traceback": [
      "\u001b[0;31m---------------------------------------------------------------------------\u001b[0m",
      "\u001b[0;31mCatalogException\u001b[0m                          Traceback (most recent call last)",
      "Cell \u001b[0;32mIn [6], line 5\u001b[0m\n\u001b[1;32m      2\u001b[0m con \u001b[38;5;241m=\u001b[39m duckdb\u001b[38;5;241m.\u001b[39mconnect(\u001b[38;5;124m'\u001b[39m\u001b[38;5;124mimdb_reviews.db\u001b[39m\u001b[38;5;124m'\u001b[39m)\n\u001b[1;32m      4\u001b[0m \u001b[38;5;66;03m# create a table and load data into it\u001b[39;00m\n\u001b[0;32m----> 5\u001b[0m \u001b[43mcon\u001b[49m\u001b[38;5;241;43m.\u001b[39;49m\u001b[43msql\u001b[49m\u001b[43m(\u001b[49m\u001b[38;5;124;43m\"\u001b[39;49m\u001b[38;5;124;43mCREATE TABLE IF NOT EXISTS netflix_training AS SELECT * FROM df_netflix_train\u001b[39;49m\u001b[38;5;124;43m\"\u001b[39;49m\u001b[43m)\u001b[49m\n\u001b[1;32m      7\u001b[0m con\u001b[38;5;241m.\u001b[39mclose()\n",
      "\u001b[0;31mCatalogException\u001b[0m: Catalog Error: Table with name df_netflix_train does not exist!\nDid you mean \"imdb_review_train\"?\nLINE 1: ...ISTS netflix_training AS SELECT * FROM df_netflix_train\n                                                  ^"
     ]
    }
   ],
   "source": [
    "# create a connection to a file called 'file.db'\n",
    "con = duckdb.connect('imdb_reviews.db')\n",
    "\n",
    "# create a table and load data into it\n",
    "con.sql(\"CREATE TABLE IF NOT EXISTS netflix_training AS SELECT * FROM df_netflix_train\")\n",
    "\n",
    "con.close()\n"
   ]
  },
  {
   "cell_type": "code",
   "execution_count": null,
   "id": "ad8041fd",
   "metadata": {},
   "outputs": [],
   "source": []
  },
  {
   "cell_type": "code",
   "execution_count": null,
   "id": "92b51726",
   "metadata": {},
   "outputs": [],
   "source": []
  },
  {
   "cell_type": "code",
   "execution_count": null,
   "id": "cdb8fa52",
   "metadata": {},
   "outputs": [],
   "source": []
  },
  {
   "cell_type": "code",
   "execution_count": null,
   "id": "aef6ed27",
   "metadata": {},
   "outputs": [],
   "source": []
  },
  {
   "cell_type": "code",
   "execution_count": null,
   "id": "3e4b3ea4",
   "metadata": {},
   "outputs": [],
   "source": []
  },
  {
   "cell_type": "code",
   "execution_count": null,
   "id": "6be6215b",
   "metadata": {},
   "outputs": [],
   "source": []
  },
  {
   "cell_type": "code",
   "execution_count": null,
   "id": "18b31daf",
   "metadata": {},
   "outputs": [],
   "source": []
  }
 ],
 "metadata": {
  "kernelspec": {
   "display_name": "Python 3 (ipykernel)",
   "language": "python",
   "name": "python3"
  },
  "language_info": {
   "codemirror_mode": {
    "name": "ipython",
    "version": 3
   },
   "file_extension": ".py",
   "mimetype": "text/x-python",
   "name": "python",
   "nbconvert_exporter": "python",
   "pygments_lexer": "ipython3",
   "version": "3.9.6"
  }
 },
 "nbformat": 4,
 "nbformat_minor": 5
}
