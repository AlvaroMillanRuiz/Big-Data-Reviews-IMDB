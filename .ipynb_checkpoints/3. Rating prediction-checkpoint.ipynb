{
 "cells": [
  {
   "cell_type": "markdown",
   "id": "d428a004",
   "metadata": {},
   "source": [
    "# Rating prediction"
   ]
  },
  {
   "cell_type": "code",
   "execution_count": 52,
   "id": "8cb33de5",
   "metadata": {},
   "outputs": [],
   "source": [
    "# Import necessary libraries\n",
    "import pandas as pd\n",
    "import numpy as np\n",
    "import json\n",
    "import duckdb\n",
    "\n",
    "# Machine learning libraries\n",
    "from sklearn.model_selection import train_test_split\n",
    "from sklearn.preprocessing import StandardScaler\n",
    "from sklearn.tree import DecisionTreeClassifier\n",
    "from sklearn.metrics import confusion_matrix"
   ]
  },
  {
   "cell_type": "code",
   "execution_count": 53,
   "id": "2db376ea",
   "metadata": {},
   "outputs": [],
   "source": [
    "# create a connection to a file called 'file.db'\n",
    "con = duckdb.connect('imdb_reviews.db')"
   ]
  },
  {
   "cell_type": "code",
   "execution_count": 54,
   "id": "cb373284",
   "metadata": {},
   "outputs": [
    {
     "data": {
      "text/html": [
       "<div>\n",
       "<style scoped>\n",
       "    .dataframe tbody tr th:only-of-type {\n",
       "        vertical-align: middle;\n",
       "    }\n",
       "\n",
       "    .dataframe tbody tr th {\n",
       "        vertical-align: top;\n",
       "    }\n",
       "\n",
       "    .dataframe thead th {\n",
       "        text-align: right;\n",
       "    }\n",
       "</style>\n",
       "<table border=\"1\" class=\"dataframe\">\n",
       "  <thead>\n",
       "    <tr style=\"text-align: right;\">\n",
       "      <th></th>\n",
       "      <th>table_name</th>\n",
       "      <th>column_names</th>\n",
       "      <th>column_types</th>\n",
       "      <th>temporary</th>\n",
       "    </tr>\n",
       "  </thead>\n",
       "  <tbody>\n",
       "    <tr>\n",
       "      <th>0</th>\n",
       "      <td>imdb_review_test</td>\n",
       "      <td>[primaryTitle, originalTitle, startYear, endYe...</td>\n",
       "      <td>[VARCHAR, VARCHAR, VARCHAR, VARCHAR, VARCHAR, ...</td>\n",
       "      <td>False</td>\n",
       "    </tr>\n",
       "    <tr>\n",
       "      <th>1</th>\n",
       "      <td>imdb_review_train</td>\n",
       "      <td>[primaryTitle, originalTitle, startYear, endYe...</td>\n",
       "      <td>[VARCHAR, VARCHAR, VARCHAR, VARCHAR, BIGINT, D...</td>\n",
       "      <td>False</td>\n",
       "    </tr>\n",
       "    <tr>\n",
       "      <th>2</th>\n",
       "      <td>imdb_review_validation</td>\n",
       "      <td>[primaryTitle, originalTitle, startYear, endYe...</td>\n",
       "      <td>[VARCHAR, VARCHAR, VARCHAR, VARCHAR, VARCHAR, ...</td>\n",
       "      <td>False</td>\n",
       "    </tr>\n",
       "    <tr>\n",
       "      <th>3</th>\n",
       "      <td>movie_writer</td>\n",
       "      <td>[movie, writer]</td>\n",
       "      <td>[VARCHAR, VARCHAR]</td>\n",
       "      <td>False</td>\n",
       "    </tr>\n",
       "    <tr>\n",
       "      <th>4</th>\n",
       "      <td>profile</td>\n",
       "      <td>[movie, director]</td>\n",
       "      <td>[VARCHAR, VARCHAR]</td>\n",
       "      <td>False</td>\n",
       "    </tr>\n",
       "  </tbody>\n",
       "</table>\n",
       "</div>"
      ],
      "text/plain": [
       "               table_name                                       column_names  \\\n",
       "0        imdb_review_test  [primaryTitle, originalTitle, startYear, endYe...   \n",
       "1       imdb_review_train  [primaryTitle, originalTitle, startYear, endYe...   \n",
       "2  imdb_review_validation  [primaryTitle, originalTitle, startYear, endYe...   \n",
       "3            movie_writer                                    [movie, writer]   \n",
       "4                 profile                                  [movie, director]   \n",
       "\n",
       "                                        column_types  temporary  \n",
       "0  [VARCHAR, VARCHAR, VARCHAR, VARCHAR, VARCHAR, ...      False  \n",
       "1  [VARCHAR, VARCHAR, VARCHAR, VARCHAR, BIGINT, D...      False  \n",
       "2  [VARCHAR, VARCHAR, VARCHAR, VARCHAR, VARCHAR, ...      False  \n",
       "3                                 [VARCHAR, VARCHAR]      False  \n",
       "4                                 [VARCHAR, VARCHAR]      False  "
      ]
     },
     "execution_count": 54,
     "metadata": {},
     "output_type": "execute_result"
    }
   ],
   "source": [
    "con.execute(\"DESCRIBE\").fetchdf()"
   ]
  },
  {
   "cell_type": "code",
   "execution_count": 55,
   "id": "6bb85fc3",
   "metadata": {},
   "outputs": [
    {
     "data": {
      "text/html": [
       "<div>\n",
       "<style scoped>\n",
       "    .dataframe tbody tr th:only-of-type {\n",
       "        vertical-align: middle;\n",
       "    }\n",
       "\n",
       "    .dataframe tbody tr th {\n",
       "        vertical-align: top;\n",
       "    }\n",
       "\n",
       "    .dataframe thead th {\n",
       "        text-align: right;\n",
       "    }\n",
       "</style>\n",
       "<table border=\"1\" class=\"dataframe\">\n",
       "  <thead>\n",
       "    <tr style=\"text-align: right;\">\n",
       "      <th></th>\n",
       "      <th>runtimeMinutes</th>\n",
       "      <th>numVotes</th>\n",
       "      <th>label</th>\n",
       "    </tr>\n",
       "  </thead>\n",
       "  <tbody>\n",
       "    <tr>\n",
       "      <th>0</th>\n",
       "      <td>91</td>\n",
       "      <td>13679.0</td>\n",
       "      <td>True</td>\n",
       "    </tr>\n",
       "    <tr>\n",
       "      <th>1</th>\n",
       "      <td>143</td>\n",
       "      <td>2178.0</td>\n",
       "      <td>True</td>\n",
       "    </tr>\n",
       "    <tr>\n",
       "      <th>2</th>\n",
       "      <td>65</td>\n",
       "      <td>10911.0</td>\n",
       "      <td>True</td>\n",
       "    </tr>\n",
       "    <tr>\n",
       "      <th>3</th>\n",
       "      <td>63</td>\n",
       "      <td>4312.0</td>\n",
       "      <td>True</td>\n",
       "    </tr>\n",
       "    <tr>\n",
       "      <th>4</th>\n",
       "      <td>67</td>\n",
       "      <td>87784.0</td>\n",
       "      <td>True</td>\n",
       "    </tr>\n",
       "  </tbody>\n",
       "</table>\n",
       "</div>"
      ],
      "text/plain": [
       "   runtimeMinutes  numVotes  label\n",
       "0              91   13679.0   True\n",
       "1             143    2178.0   True\n",
       "2              65   10911.0   True\n",
       "3              63    4312.0   True\n",
       "4              67   87784.0   True"
      ]
     },
     "execution_count": 55,
     "metadata": {},
     "output_type": "execute_result"
    }
   ],
   "source": [
    "df = con.execute(\"SELECT runtimeMinutes, numVotes, label FROM imdb_review_train\").fetchdf()\n",
    "df.head()"
   ]
  },
  {
   "cell_type": "code",
   "execution_count": 56,
   "id": "677c2890",
   "metadata": {},
   "outputs": [
    {
     "name": "stdout",
     "output_type": "stream",
     "text": [
      "True Positive(TP)  =  512\n",
      "False Positive(FP) =  270\n",
      "True Negative(TN)  =  599\n",
      "False Negative(FN) =  409\n"
     ]
    }
   ],
   "source": [
    "# Step 0: Prepare dataset and remove rows with NaN values (not possible with decision tree model)\n",
    "df_no_nan = df.dropna()\n",
    "\n",
    "# Step 1: Define explanatory and target variables\n",
    "X = df_no_nan[['numVotes', 'runtimeMinutes']]\n",
    "y = df_no_nan['label']\n",
    "\n",
    "# Step 2: Split the dataset into training and testing sets\n",
    "X_train, X_test, y_train, y_test = train_test_split(X, y , test_size=0.25, random_state=0)\n",
    "\n",
    "# Step 3: Normalize the data for numerical stability\n",
    "ss_train = StandardScaler()\n",
    "X_train = ss_train.fit_transform(X_train)\n",
    "\n",
    "ss_test = StandardScaler()\n",
    "X_test = ss_test.fit_transform(X_test)\n",
    "\n",
    "# Step 4: Fit a decision tree model to the training data\n",
    "clf = DecisionTreeClassifier()\n",
    "\n",
    "# Step 5: Make predictions on the testing data\n",
    "clf = clf.fit(X_train,y_train)\n",
    "\n",
    "# Step 6: Calculate the accuracy score by comparing the actual values and predicted values.\n",
    "predictions = clf.predict(X_test)\n",
    "\n",
    "cm = confusion_matrix(y_test, predictions)\n",
    "\n",
    "TN, FP, FN, TP = confusion_matrix(y_test, predictions).ravel()\n",
    "\n",
    "print('True Positive(TP)  = ', TP)\n",
    "print('False Positive(FP) = ', FP)\n",
    "print('True Negative(TN)  = ', TN)\n",
    "print('False Negative(FN) = ', FN)"
   ]
  },
  {
   "cell_type": "code",
   "execution_count": 57,
   "id": "19b534aa",
   "metadata": {},
   "outputs": [],
   "source": [
    "df_validation = con.execute(\"SELECT runtimeMinutes, numVotes FROM imdb_review_validation\").fetchdf()\n",
    "# fill all NaN with 0, THIS NEEDS TO BE CHANGED!! But the model does not accept NaN values\n",
    "df_validation = df_validation.fillna(0)\n",
    "\n",
    "ss_train = StandardScaler()\n",
    "df_validation = ss_train.fit_transform(df_validation)\n",
    "\n",
    "predictions_validation = clf.predict(df_validation)\n",
    "\n",
    "predictions_validation\n",
    "\n",
    "pd.DataFrame(predictions_validation).to_csv('validation_results.csv', index=False, header=False)"
   ]
  },
  {
   "cell_type": "code",
   "execution_count": 58,
   "id": "6cb425c7",
   "metadata": {},
   "outputs": [],
   "source": [
    "df_test = con.execute(\"SELECT runtimeMinutes, numVotes FROM imdb_review_test\").fetchdf()\n",
    "# fill all NaN with 0, THIS NEEDS TO BE CHANGED!! But the model does not accept NaN values\n",
    "df_test = df_test.fillna(0)\n",
    "\n",
    "ss_train = StandardScaler()\n",
    "df_test = ss_train.fit_transform(df_test)\n",
    "\n",
    "predictions_test = clf.predict(df_test)\n",
    "\n",
    "pd.DataFrame(predictions_test).to_csv('test_results.csv', index=False, header=False)"
   ]
  },
  {
   "cell_type": "code",
   "execution_count": 59,
   "id": "3f15730b",
   "metadata": {},
   "outputs": [],
   "source": [
    "con.close()"
   ]
  },
  {
   "cell_type": "code",
   "execution_count": null,
   "id": "bc897e03",
   "metadata": {},
   "outputs": [],
   "source": []
  }
 ],
 "metadata": {
  "kernelspec": {
   "display_name": "Python 3 (ipykernel)",
   "language": "python",
   "name": "python3"
  },
  "language_info": {
   "codemirror_mode": {
    "name": "ipython",
    "version": 3
   },
   "file_extension": ".py",
   "mimetype": "text/x-python",
   "name": "python",
   "nbconvert_exporter": "python",
   "pygments_lexer": "ipython3",
   "version": "3.9.6"
  }
 },
 "nbformat": 4,
 "nbformat_minor": 5
}
