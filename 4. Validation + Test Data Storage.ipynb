{
 "cells": [
  {
   "cell_type": "code",
   "execution_count": 12,
   "id": "b981c793",
   "metadata": {
    "pycharm": {
     "name": "#%%\n"
    }
   },
   "outputs": [],
   "source": [
    "# Import necessary libraries\n",
    "import pandas as pd\n",
    "import glob\n",
    "from ydata_profiling import ProfileReport #pandas_profiling\n",
    "import numpy as np\n",
    "import json\n",
    "import re\n",
    "import duckdb\n",
    "import functions_project"
   ]
  },
  {
   "cell_type": "code",
   "execution_count": 13,
   "id": "fe0b92ab",
   "metadata": {
    "pycharm": {
     "name": "#%%\n"
    }
   },
   "outputs": [
    {
     "data": {
      "text/html": [
       "<div>\n",
       "<style scoped>\n",
       "    .dataframe tbody tr th:only-of-type {\n",
       "        vertical-align: middle;\n",
       "    }\n",
       "\n",
       "    .dataframe tbody tr th {\n",
       "        vertical-align: top;\n",
       "    }\n",
       "\n",
       "    .dataframe thead th {\n",
       "        text-align: right;\n",
       "    }\n",
       "</style>\n",
       "<table border=\"1\" class=\"dataframe\">\n",
       "  <thead>\n",
       "    <tr style=\"text-align: right;\">\n",
       "      <th></th>\n",
       "      <th>tconst</th>\n",
       "      <th>primaryTitle</th>\n",
       "      <th>originalTitle</th>\n",
       "      <th>startYear</th>\n",
       "      <th>endYear</th>\n",
       "      <th>runtimeMinutes</th>\n",
       "      <th>numVotes</th>\n",
       "    </tr>\n",
       "  </thead>\n",
       "  <tbody>\n",
       "    <tr>\n",
       "      <th>0</th>\n",
       "      <td>tt0003740</td>\n",
       "      <td>Cabiria</td>\n",
       "      <td>NaN</td>\n",
       "      <td>1914</td>\n",
       "      <td>NaN</td>\n",
       "      <td>148</td>\n",
       "      <td>3452.0</td>\n",
       "    </tr>\n",
       "    <tr>\n",
       "      <th>1</th>\n",
       "      <td>tt0008663</td>\n",
       "      <td>A Man There Was</td>\n",
       "      <td>Terje Vigen</td>\n",
       "      <td>1917</td>\n",
       "      <td>NaN</td>\n",
       "      <td>65</td>\n",
       "      <td>1882.0</td>\n",
       "    </tr>\n",
       "    <tr>\n",
       "      <th>2</th>\n",
       "      <td>tt0010307</td>\n",
       "      <td>J'accuse!</td>\n",
       "      <td>NaN</td>\n",
       "      <td>1919</td>\n",
       "      <td>NaN</td>\n",
       "      <td>166</td>\n",
       "      <td>1692.0</td>\n",
       "    </tr>\n",
       "    <tr>\n",
       "      <th>3</th>\n",
       "      <td>tt0014429</td>\n",
       "      <td>Safety Last!</td>\n",
       "      <td>Safety Last!</td>\n",
       "      <td>1923</td>\n",
       "      <td>NaN</td>\n",
       "      <td>74</td>\n",
       "      <td>19898.0</td>\n",
       "    </tr>\n",
       "    <tr>\n",
       "      <th>4</th>\n",
       "      <td>tt0015175</td>\n",
       "      <td>Die Nibelungen: Siegfried</td>\n",
       "      <td>NaN</td>\n",
       "      <td>1924</td>\n",
       "      <td>NaN</td>\n",
       "      <td>143</td>\n",
       "      <td>5676.0</td>\n",
       "    </tr>\n",
       "  </tbody>\n",
       "</table>\n",
       "</div>"
      ],
      "text/plain": [
       "      tconst               primaryTitle originalTitle startYear endYear  \\\n",
       "0  tt0003740                    Cabiria           NaN      1914     NaN   \n",
       "1  tt0008663            A Man There Was   Terje Vigen      1917     NaN   \n",
       "2  tt0010307                  J'accuse!           NaN      1919     NaN   \n",
       "3  tt0014429               Safety Last!  Safety Last!      1923     NaN   \n",
       "4  tt0015175  Die Nibelungen: Siegfried           NaN      1924     NaN   \n",
       "\n",
       "  runtimeMinutes  numVotes  \n",
       "0            148    3452.0  \n",
       "1             65    1882.0  \n",
       "2            166    1692.0  \n",
       "3             74   19898.0  \n",
       "4            143    5676.0  "
      ]
     },
     "execution_count": 13,
     "metadata": {},
     "output_type": "execute_result"
    }
   ],
   "source": [
    "# Read imdb validation set\n",
    "validation_df = pd.read_csv('data/validation_hidden.csv', index_col = 1)\n",
    "validation_df = validation_df.drop(columns=['Unnamed: 0'])\n",
    "\n",
    "# Replace all missing values by legit missing values instead of string \"\\N\"\n",
    "validation_df = validation_df.replace('\\\\N', np.nan).reset_index()\n",
    "\n",
    "# Replace startYear NA with the value of endYear\n",
    "validation_df['startYear']=validation_df['startYear'].fillna(validation_df['endYear'])\n",
    "\n",
    "validation_df.head()"
   ]
  },
  {
   "cell_type": "code",
   "execution_count": 14,
   "id": "cae823c2",
   "metadata": {
    "pycharm": {
     "name": "#%%\n"
    }
   },
   "outputs": [
    {
     "data": {
      "text/html": [
       "<div>\n",
       "<style scoped>\n",
       "    .dataframe tbody tr th:only-of-type {\n",
       "        vertical-align: middle;\n",
       "    }\n",
       "\n",
       "    .dataframe tbody tr th {\n",
       "        vertical-align: top;\n",
       "    }\n",
       "\n",
       "    .dataframe thead th {\n",
       "        text-align: right;\n",
       "    }\n",
       "</style>\n",
       "<table border=\"1\" class=\"dataframe\">\n",
       "  <thead>\n",
       "    <tr style=\"text-align: right;\">\n",
       "      <th></th>\n",
       "      <th>tconst</th>\n",
       "      <th>primaryTitle</th>\n",
       "      <th>originalTitle</th>\n",
       "      <th>startYear</th>\n",
       "      <th>endYear</th>\n",
       "      <th>runtimeMinutes</th>\n",
       "      <th>numVotes</th>\n",
       "    </tr>\n",
       "  </thead>\n",
       "  <tbody>\n",
       "    <tr>\n",
       "      <th>0</th>\n",
       "      <td>tt0014972</td>\n",
       "      <td>He Who Gets Slapped</td>\n",
       "      <td>He Who Gets Slapped</td>\n",
       "      <td>1924</td>\n",
       "      <td>NaN</td>\n",
       "      <td>95</td>\n",
       "      <td>3654.0</td>\n",
       "    </tr>\n",
       "    <tr>\n",
       "      <th>1</th>\n",
       "      <td>tt0015016</td>\n",
       "      <td>The Iron Horse</td>\n",
       "      <td>NaN</td>\n",
       "      <td>1924</td>\n",
       "      <td>NaN</td>\n",
       "      <td>150</td>\n",
       "      <td>2136.0</td>\n",
       "    </tr>\n",
       "    <tr>\n",
       "      <th>2</th>\n",
       "      <td>tt0015174</td>\n",
       "      <td>Die Nibelungen: Kriemhild's Revenge</td>\n",
       "      <td>NaN</td>\n",
       "      <td>1924</td>\n",
       "      <td>NaN</td>\n",
       "      <td>129</td>\n",
       "      <td>4341.0</td>\n",
       "    </tr>\n",
       "    <tr>\n",
       "      <th>3</th>\n",
       "      <td>tt0015214</td>\n",
       "      <td>At 3:25</td>\n",
       "      <td>NaN</td>\n",
       "      <td>1925</td>\n",
       "      <td>1925</td>\n",
       "      <td>59</td>\n",
       "      <td>1724.0</td>\n",
       "    </tr>\n",
       "    <tr>\n",
       "      <th>4</th>\n",
       "      <td>tt0015863</td>\n",
       "      <td>Go West</td>\n",
       "      <td>NaN</td>\n",
       "      <td>1925</td>\n",
       "      <td>NaN</td>\n",
       "      <td>69</td>\n",
       "      <td>4188.0</td>\n",
       "    </tr>\n",
       "  </tbody>\n",
       "</table>\n",
       "</div>"
      ],
      "text/plain": [
       "      tconst                         primaryTitle        originalTitle  \\\n",
       "0  tt0014972                  He Who Gets Slapped  He Who Gets Slapped   \n",
       "1  tt0015016                       The Iron Horse                  NaN   \n",
       "2  tt0015174  Die Nibelungen: Kriemhild's Revenge                  NaN   \n",
       "3  tt0015214                              At 3:25                  NaN   \n",
       "4  tt0015863                              Go West                  NaN   \n",
       "\n",
       "  startYear endYear runtimeMinutes  numVotes  \n",
       "0      1924     NaN             95    3654.0  \n",
       "1      1924     NaN            150    2136.0  \n",
       "2      1924     NaN            129    4341.0  \n",
       "3      1925    1925             59    1724.0  \n",
       "4      1925     NaN             69    4188.0  "
      ]
     },
     "execution_count": 14,
     "metadata": {},
     "output_type": "execute_result"
    }
   ],
   "source": [
    "# Read imdb test set\n",
    "test_df = pd.read_csv('data/test_hidden.csv', index_col = 1)\n",
    "test_df = test_df.drop(columns=['Unnamed: 0'])\n",
    "\n",
    "# Replace all missing values by legit missing values instead of string \"\\N\"\n",
    "test_df = test_df.replace('\\\\N', np.nan).reset_index()\n",
    "\n",
    "# Replace startYear NA with the value of endYear\n",
    "test_df['startYear']=test_df['startYear'].fillna(test_df['endYear'])\n",
    "\n",
    "test_df.head()"
   ]
  },
  {
   "cell_type": "code",
   "execution_count": 15,
   "id": "ee61aefc",
   "metadata": {
    "pycharm": {
     "name": "#%%\n"
    }
   },
   "outputs": [
    {
     "data": {
      "text/plain": [
       "0                     he who gets slapped\n",
       "1                          the iron horse\n",
       "2       die nibelungen kriemhilds revenge\n",
       "3                                  at 325\n",
       "4                                 go west\n",
       "                      ...                \n",
       "1081                   one piece stampede\n",
       "1082                         the big ugly\n",
       "1083                           pagalpanti\n",
       "1084                the wedding unplanner\n",
       "1085            android kunjappan ver 525\n",
       "Name: primaryTitle, Length: 1086, dtype: object"
      ]
     },
     "execution_count": 15,
     "metadata": {},
     "output_type": "execute_result"
    }
   ],
   "source": [
    "#call function map_cleaned_strings to apply in the dataframe on the column primary title\n",
    "functions_project.map_cleaned_strings(validation_df, 'primaryTitle')\n",
    "functions_project.map_cleaned_strings(test_df, 'primaryTitle')\n"
   ]
  },
  {
   "cell_type": "code",
   "execution_count": 16,
   "id": "dcbf3350",
   "metadata": {
    "pycharm": {
     "name": "#%%\n"
    }
   },
   "outputs": [],
   "source": [
    "# Save the tables in the db and stop the connection afterwards\n",
    "con = duckdb.connect('imdb_reviews.db')\n",
    "con.sql(\"CREATE TABLE IF NOT EXISTS imdb_review_validation AS SELECT * FROM validation_df\")\n",
    "con.sql(\"CREATE TABLE IF NOT EXISTS imdb_review_test AS SELECT * FROM test_df\")\n",
    "con.close()"
   ]
  },
  {
   "cell_type": "code",
   "execution_count": 17,
   "id": "4be1da15",
   "metadata": {
    "pycharm": {
     "name": "#%%\n"
    }
   },
   "outputs": [],
   "source": [
    "con.close()\n"
   ]
  },
  {
   "cell_type": "code",
   "execution_count": null,
   "id": "8b9da654",
   "metadata": {
    "pycharm": {
     "name": "#%%\n"
    }
   },
   "outputs": [],
   "source": []
  },
  {
   "cell_type": "code",
   "execution_count": null,
   "id": "b9a898e1",
   "metadata": {
    "pycharm": {
     "name": "#%%\n"
    }
   },
   "outputs": [],
   "source": []
  }
 ],
 "metadata": {
  "kernelspec": {
   "display_name": "Python 3 (ipykernel)",
   "language": "python",
   "name": "python3"
  },
  "language_info": {
   "codemirror_mode": {
    "name": "ipython",
    "version": 3
   },
   "file_extension": ".py",
   "mimetype": "text/x-python",
   "name": "python",
   "nbconvert_exporter": "python",
   "pygments_lexer": "ipython3",
   "version": "3.9.6"
  }
 },
 "nbformat": 4,
 "nbformat_minor": 5
}